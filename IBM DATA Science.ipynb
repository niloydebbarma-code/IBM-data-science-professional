{
  "metadata": {
    "kernelspec": {
      "name": "python",
      "display_name": "Python (Pyodide)",
      "language": "python"
    },
    "language_info": {
      "codemirror_mode": {
        "name": "python",
        "version": 3
      },
      "file_extension": ".py",
      "mimetype": "text/x-python",
      "name": "python",
      "nbconvert_exporter": "python",
      "pygments_lexer": "ipython3",
      "version": "3.8"
    }
  },
  "nbformat_minor": 5,
  "nbformat": 4,
  "cells": [
    {
      "cell_type": "markdown",
      "source": "### Title\n\nExploring Data Science Tools",
      "metadata": {},
      "id": "4e05d62d-4ee9-4ba9-bbac-3ac8cf719c7d"
    },
    {
      "cell_type": "markdown",
      "source": "### Introduction \n\nThis notebook explores various data science concepts and tools. We will cover topics such as languages, libraries, and tools commonly used in the field of data science. ",
      "metadata": {},
      "id": "13340e99-f9f6-4a22-945f-1029a34f15bb"
    },
    {
      "cell_type": "markdown",
      "source": "### Data Science Languages\n1. Python\n2. R\n3. Julia",
      "metadata": {},
      "id": "aa6f6b98-7937-4104-a354-85c8005280e6"
    },
    {
      "cell_type": "markdown",
      "source": "### Data Science Libraries\n- Pandas\n- NumPy\n- Scikit-learn\n- TensorFlow\n- PyTorch",
      "metadata": {},
      "id": "c93e366d-6b13-4ebc-8470-383f9d35a3b5"
    },
    {
      "cell_type": "markdown",
      "source": "### Data Science Tools\n| Tool          | Description                           |\n|---------------|---------------------------------------|\n| Jupyter       | Interactive computing environment     |\n| RStudio       | IDE for R language                     |\n| GitHub        | Version control and collaboration     |\n| Tableau       | Data visualization tool                |",
      "metadata": {},
      "id": "e7546556-e1b8-4e97-87ea-b93439a952c3"
    },
    {
      "cell_type": "markdown",
      "source": "### Arithmetic Expression Examples\nIn this section, we'll explore basic arithmetic operations using Python.",
      "metadata": {},
      "id": "9027e17b-cf49-401c-b042-0002796cf0fe"
    },
    {
      "cell_type": "code",
      "source": "#Multiply and add numbers\nresult = 5 * 10 + 3\nresult",
      "metadata": {
        "trusted": true
      },
      "execution_count": 1,
      "outputs": [
        {
          "execution_count": 1,
          "output_type": "execute_result",
          "data": {
            "text/plain": "53"
          },
          "metadata": {}
        }
      ],
      "id": "191fb7e6-b1b6-435f-86ae-eae9bcea279b"
    },
    {
      "cell_type": "code",
      "source": "#Convert minutes to hours\nminutes = 120\nhours = minutes / 60\nhours",
      "metadata": {
        "trusted": true
      },
      "execution_count": 2,
      "outputs": [
        {
          "execution_count": 2,
          "output_type": "execute_result",
          "data": {
            "text/plain": "2.0"
          },
          "metadata": {}
        }
      ],
      "id": "b116fe22-77b5-4e2d-a636-4dfd7d354007"
    },
    {
      "cell_type": "markdown",
      "source": "### Objectives\n\n1. Explore data science languages and libraries.\n2. Understand the usage of various data science tools.\n3. Perform basic arithmetic operations using Python.\n4. Demonstrate the conversion of minutes to hours.",
      "metadata": {},
      "id": "e8c9e167-17f2-407f-9888-84d1f4ea68f2"
    },
    {
      "cell_type": "markdown",
      "source": "### Author\n\nNiloy Deb Barma",
      "metadata": {},
      "id": "46bd6cc1-862a-49cb-b3c8-ff01b9ec03c2"
    }
  ]
}